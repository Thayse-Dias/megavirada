{
 "cells": [
  {
   "cell_type": "markdown",
   "id": "f4223baa-42e9-46b7-8232-8c071261345f",
   "metadata": {},
   "source": [
    "## Cinco combinações de números gerados a partir do embaralhamento dos números vencedores:\n"
   ]
  },
  {
   "cell_type": "markdown",
   "id": "f5b05197-8298-4a62-9a27-575b48799b74",
   "metadata": {},
   "source": [
    "## Mega da Virada 2024"
   ]
  },
  {
   "cell_type": "code",
   "execution_count": 1,
   "id": "020fe795-ac1f-4967-9a5f-2e68eefb60ad",
   "metadata": {},
   "outputs": [
    {
     "name": "stdout",
     "output_type": "stream",
     "text": [
      "Cinco combinações de números gerados a partir do embaralhamento dos números vencedores:\n",
      "\n",
      "Combinação 1: [17, 25, 32, 35, 51, 56]\n",
      "Combinação 2: [5, 27, 37, 38, 52, 60]\n",
      "Combinação 3: [1, 20, 26, 45, 47, 48]\n",
      "Combinação 4: [3, 5, 10, 12, 41, 49]\n",
      "Combinação 5: [15, 33, 40, 45, 48, 55]\n"
     ]
    }
   ],
   "source": [
    "import pandas as pd\n",
    "import numpy as np\n",
    "import random\n",
    "\n",
    "# Exemplo de dados dos últimos 10 anos (você deve substituir por dados reais)\n",
    "# Cada linha representa um sorteio com 6 números vencedores\n",
    "numeros_vencedores = [\n",
    "    [1, 11, 26, 51, 59, 60],\n",
    "    [10, 27, 40, 46, 49, 58],\n",
    "    [3, 4, 29, 36, 45, 55],\n",
    "    [14, 32, 33, 36, 41, 52],\n",
    "    [20, 30, 36, 38, 47, 53],\n",
    "    [1, 5, 11, 16, 20, 56],\n",
    "    [2, 18, 31, 42, 51, 56],\n",
    "    [5, 11, 22, 24, 51, 53],\n",
    "    [3, 6, 10, 17, 34, 37],\n",
    "    [5, 10, 12, 18, 25, 33],\n",
    "    [3, 35, 38, 40, 57, 58],\n",
    "    [17, 20, 22, 35, 41, 42],\n",
    "    [12, 15, 23, 32, 33, 46],\n",
    "    [4, 5, 10, 34, 58, 59],\n",
    "    [21, 24, 33, 41, 48, 56]\n",
    "]\n",
    "\n",
    "# Criar um DataFrame com os números vencedores\n",
    "df = pd.DataFrame(numeros_vencedores)\n",
    "\n",
    "# Obter todos os números vencedores em uma única lista\n",
    "todos_numeros = df.values.flatten()\n",
    "\n",
    "# Obter números únicos\n",
    "numeros_unicos = np.unique(todos_numeros)\n",
    "\n",
    "# Função para embaralhar e selecionar 6 números\n",
    "def gerar_numeros_embaralhados(numeros_unicos, num_selecionados=6):\n",
    "    return np.random.choice(numeros_unicos, size=num_selecionados, replace=False)\n",
    "\n",
    "# Gerar 5 conjuntos de números com base no embaralhamento\n",
    "resultados_embaralhados = [gerar_numeros_embaralhados(numeros_unicos) for _ in range(5)]\n",
    "\n",
    "# Imprimir os resultados\n",
    "print(\"Cinco combinações de números gerados a partir do embaralhamento dos números vencedores:\")\n",
    "print()\n",
    "for i, resultado in enumerate(resultados_embaralhados, start=1):\n",
    "    print(f\"Combinação {i}: {sorted(resultado)}\")"
   ]
  },
  {
   "cell_type": "code",
   "execution_count": null,
   "id": "8fa79419-fe49-4d35-b93d-81c328757f78",
   "metadata": {},
   "outputs": [],
   "source": []
  }
 ],
 "metadata": {
  "kernelspec": {
   "display_name": "Python 3 (ipykernel)",
   "language": "python",
   "name": "python3"
  },
  "language_info": {
   "codemirror_mode": {
    "name": "ipython",
    "version": 3
   },
   "file_extension": ".py",
   "mimetype": "text/x-python",
   "name": "python",
   "nbconvert_exporter": "python",
   "pygments_lexer": "ipython3",
   "version": "3.12.3"
  }
 },
 "nbformat": 4,
 "nbformat_minor": 5
}
